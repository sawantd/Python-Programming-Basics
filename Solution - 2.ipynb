{
 "cells": [
  {
   "cell_type": "markdown",
   "id": "00980c72",
   "metadata": {},
   "source": [
    "### 1.\tWrite a Python program to convert kilometers to miles?"
   ]
  },
  {
   "cell_type": "code",
   "execution_count": 1,
   "id": "987ed66a",
   "metadata": {},
   "outputs": [
    {
     "name": "stdout",
     "output_type": "stream",
     "text": [
      "Enter the distance in km :123\n",
      "The distance in miles is 76.42851\n"
     ]
    }
   ],
   "source": [
    "distance = float(input(\"Enter the distance in km :\"))\n",
    "\n",
    "# Kilometers to miles convertion:\n",
    "conv_value = distance * 0.62137\n",
    "\n",
    "print(\"The distance in miles is {}\".format(conv_value))"
   ]
  },
  {
   "cell_type": "markdown",
   "id": "899ba6f9",
   "metadata": {},
   "source": [
    "### 2.\tWrite a Python program to convert Celsius to Fahrenheit?"
   ]
  },
  {
   "cell_type": "code",
   "execution_count": 3,
   "id": "420b6f9d",
   "metadata": {},
   "outputs": [
    {
     "name": "stdout",
     "output_type": "stream",
     "text": [
      "Enter the temperature in Celsius :38\n",
      "The temperature in Fahrenheit is 76.42851\n"
     ]
    }
   ],
   "source": [
    "temperature = float(input(\"Enter the temperature in Celsius :\"))\n",
    "\n",
    "# Celsius to Fahrenheit conversion:\n",
    "con_value = (temperature * 1.8) + 32\n",
    "\n",
    "print(\"The temperature in Fahrenheit is {}\".format(conv_value))"
   ]
  },
  {
   "cell_type": "markdown",
   "id": "73b703eb",
   "metadata": {},
   "source": [
    "### 3.\tWrite a Python program to display calendar?"
   ]
  },
  {
   "cell_type": "markdown",
   "id": "145ab681",
   "metadata": {},
   "source": [
    "- We need to import __calendar__ module for this"
   ]
  },
  {
   "cell_type": "code",
   "execution_count": 4,
   "id": "6f88e14e",
   "metadata": {},
   "outputs": [],
   "source": [
    "import calendar"
   ]
  },
  {
   "cell_type": "code",
   "execution_count": 5,
   "id": "279d4851",
   "metadata": {},
   "outputs": [
    {
     "name": "stdout",
     "output_type": "stream",
     "text": [
      "                                  2022\n",
      "\n",
      "      January                   February                   March\n",
      "Mo Tu We Th Fr Sa Su      Mo Tu We Th Fr Sa Su      Mo Tu We Th Fr Sa Su\n",
      "                1  2          1  2  3  4  5  6          1  2  3  4  5  6\n",
      " 3  4  5  6  7  8  9       7  8  9 10 11 12 13       7  8  9 10 11 12 13\n",
      "10 11 12 13 14 15 16      14 15 16 17 18 19 20      14 15 16 17 18 19 20\n",
      "17 18 19 20 21 22 23      21 22 23 24 25 26 27      21 22 23 24 25 26 27\n",
      "24 25 26 27 28 29 30      28                        28 29 30 31\n",
      "31\n",
      "\n",
      "       April                      May                       June\n",
      "Mo Tu We Th Fr Sa Su      Mo Tu We Th Fr Sa Su      Mo Tu We Th Fr Sa Su\n",
      "             1  2  3                         1             1  2  3  4  5\n",
      " 4  5  6  7  8  9 10       2  3  4  5  6  7  8       6  7  8  9 10 11 12\n",
      "11 12 13 14 15 16 17       9 10 11 12 13 14 15      13 14 15 16 17 18 19\n",
      "18 19 20 21 22 23 24      16 17 18 19 20 21 22      20 21 22 23 24 25 26\n",
      "25 26 27 28 29 30         23 24 25 26 27 28 29      27 28 29 30\n",
      "                          30 31\n",
      "\n",
      "        July                     August                  September\n",
      "Mo Tu We Th Fr Sa Su      Mo Tu We Th Fr Sa Su      Mo Tu We Th Fr Sa Su\n",
      "             1  2  3       1  2  3  4  5  6  7                1  2  3  4\n",
      " 4  5  6  7  8  9 10       8  9 10 11 12 13 14       5  6  7  8  9 10 11\n",
      "11 12 13 14 15 16 17      15 16 17 18 19 20 21      12 13 14 15 16 17 18\n",
      "18 19 20 21 22 23 24      22 23 24 25 26 27 28      19 20 21 22 23 24 25\n",
      "25 26 27 28 29 30 31      29 30 31                  26 27 28 29 30\n",
      "\n",
      "      October                   November                  December\n",
      "Mo Tu We Th Fr Sa Su      Mo Tu We Th Fr Sa Su      Mo Tu We Th Fr Sa Su\n",
      "                1  2          1  2  3  4  5  6                1  2  3  4\n",
      " 3  4  5  6  7  8  9       7  8  9 10 11 12 13       5  6  7  8  9 10 11\n",
      "10 11 12 13 14 15 16      14 15 16 17 18 19 20      12 13 14 15 16 17 18\n",
      "17 18 19 20 21 22 23      21 22 23 24 25 26 27      19 20 21 22 23 24 25\n",
      "24 25 26 27 28 29 30      28 29 30                  26 27 28 29 30 31\n",
      "31\n",
      "\n"
     ]
    }
   ],
   "source": [
    "# Year - 2022\n",
    "print(calendar.calendar(2022))      # displays the calendar for whole year"
   ]
  },
  {
   "cell_type": "code",
   "execution_count": 8,
   "id": "94c55075",
   "metadata": {},
   "outputs": [
    {
     "name": "stdout",
     "output_type": "stream",
     "text": [
      "   February 2022\n",
      "Mo Tu We Th Fr Sa Su\n",
      "    1  2  3  4  5  6\n",
      " 7  8  9 10 11 12 13\n",
      "14 15 16 17 18 19 20\n",
      "21 22 23 24 25 26 27\n",
      "28\n",
      "\n"
     ]
    }
   ],
   "source": [
    "# Year - 2022, Month - February\n",
    "print(calendar.month(2022,2))     # displays the calendar for a specific month provided"
   ]
  },
  {
   "cell_type": "markdown",
   "id": "ad36131d",
   "metadata": {},
   "source": [
    "### 4.\tWrite a Python program to solve quadratic equation?"
   ]
  },
  {
   "cell_type": "markdown",
   "id": "9c40dc77",
   "metadata": {},
   "source": [
    "- We need to import __cmath__ i.e complex math module for this"
   ]
  },
  {
   "cell_type": "code",
   "execution_count": 12,
   "id": "becf2c10",
   "metadata": {},
   "outputs": [
    {
     "name": "stdout",
     "output_type": "stream",
     "text": [
      "Enter coefficient of x^2 : 5\n",
      "Enter coefficient of x   : 3\n",
      "Enter constant value     : 15\n",
      "The solution of the given quadratic equation is (-0.3-1.7058722109231979j) and (-0.3+1.7058722109231979j)\n"
     ]
    }
   ],
   "source": [
    "import cmath\n",
    "\n",
    "# Coefficient input :\n",
    "a = float(input(\"Enter coefficient of x^2 : \"))\n",
    "b = float(input(\"Enter coefficient of x   : \"))\n",
    "c = float(input(\"Enter constant value     : \"))\n",
    "\n",
    "# Calculating discriminant value :\n",
    "d = (b**2) - 4*a*c\n",
    "\n",
    "# Finding the two solutions :\n",
    "s1 = (- b - cmath.sqrt(d))/ (2*a)\n",
    "s2 = (- b + cmath.sqrt(d))/ (2*a)\n",
    "\n",
    "print(\"The solution of the given quadratic equation is {} and {}\".format(s1,s2))"
   ]
  },
  {
   "cell_type": "markdown",
   "id": "f14b20e2",
   "metadata": {},
   "source": [
    "### 5.\tWrite a Python program to swap two variables without temp variable?"
   ]
  },
  {
   "cell_type": "code",
   "execution_count": 11,
   "id": "9c112a00",
   "metadata": {},
   "outputs": [
    {
     "name": "stdout",
     "output_type": "stream",
     "text": [
      "Enter the first variable value :apple\n",
      "Enter the second variable value :mango\n",
      "Post swapping, the value of first variable is mango and that of second variable is apple\n"
     ]
    }
   ],
   "source": [
    "x = input(\"Enter the first variable value :\")\n",
    "y = input(\"Enter the second variable value :\")\n",
    "\n",
    "# Swaping the variables\n",
    "x , y = y , x\n",
    "\n",
    "print(\"Post swapping, the value of first variable is {} and that of second variable is {}\".format(x,y))"
   ]
  }
 ],
 "metadata": {
  "kernelspec": {
   "display_name": "Python 3 (ipykernel)",
   "language": "python",
   "name": "python3"
  },
  "language_info": {
   "codemirror_mode": {
    "name": "ipython",
    "version": 3
   },
   "file_extension": ".py",
   "mimetype": "text/x-python",
   "name": "python",
   "nbconvert_exporter": "python",
   "pygments_lexer": "ipython3",
   "version": "3.9.7"
  }
 },
 "nbformat": 4,
 "nbformat_minor": 5
}
