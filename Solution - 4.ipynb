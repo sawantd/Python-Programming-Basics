{
 "cells": [
  {
   "cell_type": "markdown",
   "id": "6fc2f3e5",
   "metadata": {},
   "source": [
    "### 1.\tWrite a Python Program to Find the Factorial of a Number?"
   ]
  },
  {
   "cell_type": "code",
   "execution_count": 1,
   "id": "54eea61f",
   "metadata": {},
   "outputs": [
    {
     "name": "stdout",
     "output_type": "stream",
     "text": [
      "Enter a number :10\n",
      "The factorial of 10 is 3628800\n"
     ]
    }
   ],
   "source": [
    "try:\n",
    "    num = int(input(\"Enter a number :\"))\n",
    "\n",
    "    # Calculating the factorial :\n",
    "    total = 1\n",
    "    for i in range(1,(num+1)):\n",
    "        total = total * i\n",
    "\n",
    "    print(f\"The factorial of {num} is {total}\")\n",
    "    \n",
    "\n",
    "except Exception as e:\n",
    "    print(e)"
   ]
  },
  {
   "cell_type": "markdown",
   "id": "8568e8ef",
   "metadata": {},
   "source": [
    "### 2.\tWrite a Python Program to Display the multiplication Table?"
   ]
  },
  {
   "cell_type": "code",
   "execution_count": 2,
   "id": "18678da5",
   "metadata": {},
   "outputs": [
    {
     "name": "stdout",
     "output_type": "stream",
     "text": [
      "Enter a number for which you want to display the table :10\n",
      "10 * 1 = 10\n",
      "10 * 2 = 20\n",
      "10 * 3 = 30\n",
      "10 * 4 = 40\n",
      "10 * 5 = 50\n",
      "10 * 6 = 60\n",
      "10 * 7 = 70\n",
      "10 * 8 = 80\n",
      "10 * 9 = 90\n",
      "10 * 10 = 100\n"
     ]
    }
   ],
   "source": [
    "try:\n",
    "    num = int(input(\"Enter a number for which you want to display the table :\"))\n",
    "\n",
    "    # multiplication table calculation :\n",
    "    for i in range(1,11):\n",
    "        total = num * i\n",
    "        print(f'{num} * {i} = {total}')\n",
    "\n",
    "except Exception as e:\n",
    "    print(e)"
   ]
  },
  {
   "cell_type": "markdown",
   "id": "f21711b0",
   "metadata": {},
   "source": [
    "### 3.\tWrite a Python Program to Print the Fibonacci sequence?"
   ]
  },
  {
   "cell_type": "code",
   "execution_count": 2,
   "id": "ff6e271a",
   "metadata": {},
   "outputs": [
    {
     "name": "stdout",
     "output_type": "stream",
     "text": [
      "Enter the length of the fibonacci sequence :10\n",
      "[0, 1, 1, 2, 3, 5, 8, 13, 21, 34]\n"
     ]
    }
   ],
   "source": [
    "try:\n",
    "    num = int(input(\"Enter the length of the fibonacci sequence :\"))\n",
    "\n",
    "    # fibonacci sequence :\n",
    "    a = 0\n",
    "    b = 1\n",
    "    lst = []\n",
    "    for i in range(num):\n",
    "        lst.append(a)\n",
    "        a, b = b , a+b\n",
    "    print(lst)\n",
    "        \n",
    "except Exception as e:\n",
    "    print(e)"
   ]
  },
  {
   "cell_type": "markdown",
   "id": "b04962cb",
   "metadata": {},
   "source": [
    "### 4.\tWrite a Python Program to Check Armstrong Number?"
   ]
  },
  {
   "cell_type": "markdown",
   "id": "1997fcac",
   "metadata": {},
   "source": [
    "- A positive integer is called an Armstrong number of order __n__ if :\n",
    "- __abcd... = a^n + b^n + c^n + d^n + ...__"
   ]
  },
  {
   "cell_type": "code",
   "execution_count": 5,
   "id": "9960867e",
   "metadata": {},
   "outputs": [
    {
     "name": "stdout",
     "output_type": "stream",
     "text": [
      "Enter a number :153\n",
      "153 is an Armstrong Number.\n"
     ]
    }
   ],
   "source": [
    "try:\n",
    "    num = int(input(\"Enter a number :\"))\n",
    "\n",
    "    # store the number of digits\n",
    "    order = len(str(num))\n",
    "\n",
    "    total = 0\n",
    "    # Calculating the sum of nth order of each digit:\n",
    "    i = num\n",
    "    while i > 0:\n",
    "        digit = i % 10\n",
    "        total += digit**order\n",
    "        i //= 10\n",
    "\n",
    "    # Checking if it is an Armstrong number:\n",
    "    if total == num:\n",
    "        print(f'{num} is an Armstrong Number.')\n",
    "    else:\n",
    "        print(f'{num} is not an Armstrong Number.')\n",
    "except Exception as e:\n",
    "    print(e)"
   ]
  },
  {
   "cell_type": "markdown",
   "id": "67aeb1bc",
   "metadata": {},
   "source": [
    "### 5.\tWrite a Python Program to Find Armstrong Number in an Interval?"
   ]
  },
  {
   "cell_type": "code",
   "execution_count": 6,
   "id": "d657cd27",
   "metadata": {},
   "outputs": [],
   "source": [
    "try:\n",
    "    def armstrong_int(start,end):\n",
    "        \"\"\"\n",
    "        Input : Enter the start and end value of the interval.\n",
    "        This function prints a list of all the armstrong numbers present in the given interval.\n",
    "        \"\"\"\n",
    "        an = []                              # Creating an empty list to store the armstrong values\n",
    "        for i in range(start, (end+1)):\n",
    "            order = len(str(i))              # length of the number\n",
    "\n",
    "            total = 0                        # initializing the sum to zero\n",
    "            j = i                            # temporary variable to store value of i\n",
    "\n",
    "            # Calculating the sum of nth order of each digit\n",
    "            while j > 0:\n",
    "                digit = j % 10\n",
    "                total += digit**order\n",
    "                j //= 10\n",
    "\n",
    "            # appending the armstrong value to the list \"an\"\n",
    "            if total == i:\n",
    "                an.append(i)\n",
    "        print(an)                            # displaying the list of armstrong numbers\n",
    "\n",
    "except Exception as e:\n",
    "    print(e)"
   ]
  },
  {
   "cell_type": "code",
   "execution_count": 7,
   "id": "f19ffbc1",
   "metadata": {},
   "outputs": [
    {
     "name": "stdout",
     "output_type": "stream",
     "text": [
      "[1, 2, 3, 4, 5, 6, 7, 8, 9, 153, 370, 371, 407]\n"
     ]
    }
   ],
   "source": [
    "armstrong_int(1,1000)"
   ]
  },
  {
   "cell_type": "markdown",
   "id": "234b23b6",
   "metadata": {},
   "source": [
    "### 6.\tWrite a Python Program to Find the Sum of Natural Numbers?"
   ]
  },
  {
   "cell_type": "code",
   "execution_count": 8,
   "id": "aac6f468",
   "metadata": {},
   "outputs": [],
   "source": [
    "try: \n",
    "    def sum_natural_num(num):\n",
    "        \"\"\"\n",
    "        Input : Integer value upto which one wants the sum.\n",
    "        This function prints the sum of all the natural numbers upto the input number provided.\n",
    "        \"\"\"\n",
    "        total = (num * (num + 1))/ 2\n",
    "        print(f'The sum of natural numbers upto {num} is {total}')      \n",
    "except Exception as e:\n",
    "    print(e)"
   ]
  },
  {
   "cell_type": "code",
   "execution_count": 9,
   "id": "984395dd",
   "metadata": {},
   "outputs": [
    {
     "name": "stdout",
     "output_type": "stream",
     "text": [
      "The sum of natural numbers upto 10 is 55.0\n"
     ]
    }
   ],
   "source": [
    "sum_natural_num(10)"
   ]
  }
 ],
 "metadata": {
  "kernelspec": {
   "display_name": "Python 3 (ipykernel)",
   "language": "python",
   "name": "python3"
  },
  "language_info": {
   "codemirror_mode": {
    "name": "ipython",
    "version": 3
   },
   "file_extension": ".py",
   "mimetype": "text/x-python",
   "name": "python",
   "nbconvert_exporter": "python",
   "pygments_lexer": "ipython3",
   "version": "3.9.7"
  }
 },
 "nbformat": 4,
 "nbformat_minor": 5
}
