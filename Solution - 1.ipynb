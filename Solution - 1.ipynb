{
 "cells": [
  {
   "cell_type": "markdown",
   "id": "b73c1aad",
   "metadata": {},
   "source": [
    "### 1.\tWrite a Python program to print \"Hello Python\"?"
   ]
  },
  {
   "cell_type": "code",
   "execution_count": 1,
   "id": "19645c2e",
   "metadata": {},
   "outputs": [
    {
     "name": "stdout",
     "output_type": "stream",
     "text": [
      "Hello Python\n"
     ]
    }
   ],
   "source": [
    "print(\"Hello Python\")"
   ]
  },
  {
   "cell_type": "markdown",
   "id": "d93701cc",
   "metadata": {},
   "source": [
    "### 2. Write a Python program to do arithmetical operations addition and division.?"
   ]
  },
  {
   "cell_type": "code",
   "execution_count": 2,
   "id": "1354b38d",
   "metadata": {},
   "outputs": [
    {
     "name": "stdout",
     "output_type": "stream",
     "text": [
      "Enter the first value :23\n",
      "Enter the second value :18\n",
      "The sum of the two input values provided is  41.0\n",
      "The division of the two input values provided is  1.2777777777777777\n"
     ]
    }
   ],
   "source": [
    "num1 = float(input(\"Enter the first value :\"))\n",
    "num2 = float(input(\"Enter the second value :\"))\n",
    "\n",
    "# Addition\n",
    "total = num1 + num2\n",
    "print(\"The sum of the two input values provided is \", total)\n",
    "\n",
    "# Division\n",
    "div_ans = num1/num2\n",
    "print(\"The division of the two input values provided is \", div_ans)"
   ]
  },
  {
   "cell_type": "markdown",
   "id": "2996f4f7",
   "metadata": {},
   "source": [
    "### 3.\tWrite a Python program to find the area of a triangle?"
   ]
  },
  {
   "cell_type": "code",
   "execution_count": 3,
   "id": "1ab26fc6",
   "metadata": {},
   "outputs": [
    {
     "name": "stdout",
     "output_type": "stream",
     "text": [
      "Enter the base measure :45\n",
      "Enter the height measure :76\n",
      "Area of the triangle is  1710.0\n"
     ]
    }
   ],
   "source": [
    "b = float(input(\"Enter the base measure :\"))\n",
    "h = float(input(\"Enter the height measure :\"))\n",
    "\n",
    "# Area of triangle'\n",
    "area = 0.5 * b * h\n",
    "\n",
    "print(\"Area of the triangle is \", area)"
   ]
  },
  {
   "cell_type": "markdown",
   "id": "401a6d29",
   "metadata": {},
   "source": [
    "### 4.\tWrite a Python program to swap two variables?"
   ]
  },
  {
   "cell_type": "code",
   "execution_count": 4,
   "id": "ae425390",
   "metadata": {},
   "outputs": [
    {
     "name": "stdout",
     "output_type": "stream",
     "text": [
      "Enter the first variable value :56\n",
      "Enter the second variable value :89\n",
      "The value of first variable after swaping is 89 and that of second variable is 56\n"
     ]
    }
   ],
   "source": [
    "x = input(\"Enter the first variable value :\")\n",
    "y = input(\"Enter the second variable value :\")\n",
    "\n",
    "# Swaping the variables\n",
    "z = x               # intermediate variable to hold x value\n",
    "\n",
    "x = y\n",
    "y = z\n",
    "\n",
    "print(\"The value of first variable after swaping is {} and that of second variable is {}\".format(x,y))"
   ]
  },
  {
   "cell_type": "markdown",
   "id": "f852fa89",
   "metadata": {},
   "source": [
    "### 5.\tWrite a Python program to generate a random number?"
   ]
  },
  {
   "cell_type": "markdown",
   "id": "aab7b3d1",
   "metadata": {},
   "source": [
    "- The __random__ module is used to generate random numbers.\n",
    "- It generates a random number between __[ 0 , 1 )__.\n",
    "- A different random value is generated post each execution of the code.\n"
   ]
  },
  {
   "cell_type": "code",
   "execution_count": 6,
   "id": "5d9a4b14",
   "metadata": {},
   "outputs": [
    {
     "name": "stdout",
     "output_type": "stream",
     "text": [
      "The random number generated is  0.49482147983171654\n",
      "The random number generated is  0.5409340047434364\n"
     ]
    }
   ],
   "source": [
    "import random\n",
    "\n",
    "# first run\n",
    "value = random.random()      # generates a random number within range [0,1)\n",
    "\n",
    "print(\"The random number generated is \", value)\n",
    "\n",
    "# second run\n",
    "value = random.random()\n",
    "\n",
    "print(\"The random number generated is \", value)"
   ]
  }
 ],
 "metadata": {
  "kernelspec": {
   "display_name": "Python 3 (ipykernel)",
   "language": "python",
   "name": "python3"
  },
  "language_info": {
   "codemirror_mode": {
    "name": "ipython",
    "version": 3
   },
   "file_extension": ".py",
   "mimetype": "text/x-python",
   "name": "python",
   "nbconvert_exporter": "python",
   "pygments_lexer": "ipython3",
   "version": "3.9.7"
  }
 },
 "nbformat": 4,
 "nbformat_minor": 5
}
